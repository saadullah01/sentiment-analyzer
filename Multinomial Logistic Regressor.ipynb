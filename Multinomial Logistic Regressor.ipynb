{
 "cells": [
  {
   "cell_type": "markdown",
   "metadata": {},
   "source": [
    "###### Neccessary Imports"
   ]
  },
  {
   "cell_type": "code",
   "execution_count": 1,
   "metadata": {},
   "outputs": [],
   "source": [
    "import numpy as np\n",
    "import pandas as pd\n",
    "import matplotlib.pyplot as plt\n",
    "import seaborn as sn\n",
    "import random\n",
    "import math\n",
    "import re\n",
    "from IPython.display import clear_output\n",
    "%matplotlib inline"
   ]
  },
  {
   "cell_type": "markdown",
   "metadata": {},
   "source": [
    "###### Loading Dataset"
   ]
  },
  {
   "cell_type": "code",
   "execution_count": 126,
   "metadata": {},
   "outputs": [],
   "source": [
    "tweets_df = pd.read_csv('Tweets.csv')\n",
    "tweets_df = tweets_df.rename(columns={\"airline_sentiment\": \"label\"})"
   ]
  },
  {
   "cell_type": "markdown",
   "metadata": {},
   "source": [
    "###### Analysing Dataset"
   ]
  },
  {
   "cell_type": "code",
   "execution_count": 127,
   "metadata": {},
   "outputs": [
    {
     "data": {
      "text/html": [
       "<div>\n",
       "<style scoped>\n",
       "    .dataframe tbody tr th:only-of-type {\n",
       "        vertical-align: middle;\n",
       "    }\n",
       "\n",
       "    .dataframe tbody tr th {\n",
       "        vertical-align: top;\n",
       "    }\n",
       "\n",
       "    .dataframe thead th {\n",
       "        text-align: right;\n",
       "    }\n",
       "</style>\n",
       "<table border=\"1\" class=\"dataframe\">\n",
       "  <thead>\n",
       "    <tr style=\"text-align: right;\">\n",
       "      <th></th>\n",
       "      <th>label</th>\n",
       "      <th>text</th>\n",
       "    </tr>\n",
       "  </thead>\n",
       "  <tbody>\n",
       "    <tr>\n",
       "      <th>0</th>\n",
       "      <td>neutral</td>\n",
       "      <td>@USAirways Is there a phone line to call into ...</td>\n",
       "    </tr>\n",
       "    <tr>\n",
       "      <th>1</th>\n",
       "      <td>positive</td>\n",
       "      <td>@united Bag was finally delivered and intact. ...</td>\n",
       "    </tr>\n",
       "    <tr>\n",
       "      <th>2</th>\n",
       "      <td>positive</td>\n",
       "      <td>@usairways Thanks to Kevin and team at F38ish ...</td>\n",
       "    </tr>\n",
       "    <tr>\n",
       "      <th>3</th>\n",
       "      <td>negative</td>\n",
       "      <td>@AmericanAir Yes, talked to them. FLL says is ...</td>\n",
       "    </tr>\n",
       "    <tr>\n",
       "      <th>4</th>\n",
       "      <td>negative</td>\n",
       "      <td>@VirginAmerica and it's a really big bad thing...</td>\n",
       "    </tr>\n",
       "  </tbody>\n",
       "</table>\n",
       "</div>"
      ],
      "text/plain": [
       "      label                                               text\n",
       "0   neutral  @USAirways Is there a phone line to call into ...\n",
       "1  positive  @united Bag was finally delivered and intact. ...\n",
       "2  positive  @usairways Thanks to Kevin and team at F38ish ...\n",
       "3  negative  @AmericanAir Yes, talked to them. FLL says is ...\n",
       "4  negative  @VirginAmerica and it's a really big bad thing..."
      ]
     },
     "execution_count": 127,
     "metadata": {},
     "output_type": "execute_result"
    }
   ],
   "source": [
    "tweets_df.head()"
   ]
  },
  {
   "cell_type": "code",
   "execution_count": 128,
   "metadata": {},
   "outputs": [
    {
     "data": {
      "text/plain": [
       "(14640, 2)"
      ]
     },
     "execution_count": 128,
     "metadata": {},
     "output_type": "execute_result"
    }
   ],
   "source": [
    "tweets_df.shape"
   ]
  },
  {
   "cell_type": "markdown",
   "metadata": {},
   "source": [
    "Classes"
   ]
  },
  {
   "cell_type": "code",
   "execution_count": 129,
   "metadata": {},
   "outputs": [
    {
     "data": {
      "text/plain": [
       "['negative', 'neutral', 'positive']"
      ]
     },
     "execution_count": 129,
     "metadata": {},
     "output_type": "execute_result"
    }
   ],
   "source": [
    "classes = sorted(tweets_df['label'].unique())\n",
    "classes"
   ]
  },
  {
   "cell_type": "markdown",
   "metadata": {},
   "source": [
    "Add Comment\n",
    "Skewed Dataset"
   ]
  },
  {
   "cell_type": "code",
   "execution_count": 130,
   "metadata": {},
   "outputs": [
    {
     "data": {
      "text/plain": [
       "Text(0.5, 0, 'Labels')"
      ]
     },
     "execution_count": 130,
     "metadata": {},
     "output_type": "execute_result"
    },
    {
     "data": {
      "image/png": "[encoded data removed]",
      "text/plain": [
       "<Figure size 432x288 with 1 Axes>"
      ]
     },
     "metadata": {
      "needs_background": "light"
     },
     "output_type": "display_data"
    }
   ],
   "source": [
    "ax = (tweets_df['label'].value_counts(normalize=True)*100).plot(\n",
    "        kind=\"bar\", title='Percentage of Specific Labeled Data in given Dataset')\n",
    "ax.tick_params(axis='x', labelrotation=0)\n",
    "ax.set_ylabel('Percentages %')\n",
    "ax.set_xlabel('Labels')"
   ]
  },
  {
   "cell_type": "markdown",
   "metadata": {},
   "source": [
    "### Dataset Splitting (Stratified)"
   ]
  },
  {
   "cell_type": "code",
   "execution_count": 131,
   "metadata": {},
   "outputs": [],
   "source": [
    "def split_dataset(df, classes, split=80, rand_factor=0):\n",
    "    '''\n",
    "        Performs stratified split\n",
    "        \n",
    "        Arguments\n",
    "        ---------\n",
    "        df : Pandas Dataframe\n",
    "            Dataframe of shape (m, n), where m is number of rows and n is the number of columns\n",
    "            \n",
    "        classes: list\n",
    "            List of unique classes of shape (k, ), where k is the number of classes\n",
    "        \n",
    "        split: int\n",
    "            Spliting point\n",
    "            \n",
    "        rand_factor = int\n",
    "            Number of times dataset should be randomized\n",
    "        \n",
    "        Returns\n",
    "        --------\n",
    "        train_df : Pandas Dataframe\n",
    "            Dataframe of shape (m, n), where m is number of rows and n is the number of columns\n",
    "            \n",
    "        test_df : Pandas Dataframe\n",
    "            Dataframe of shape (m, n), where m is number of rows and n is the number of columns\n",
    "        '''\n",
    "    train_df, test_df = pd.DataFrame(), pd.DataFrame()\n",
    "    \n",
    "    label_count = df['label'].value_counts()\n",
    "    for i, c in enumerate(classes):\n",
    "        temp_df = df[df['label'] == i].reset_index(drop=True)\n",
    "        split_index = int(label_count[i] * (split/100))\n",
    "        train_df = pd.concat([temp_df[:split_index], train_df], ignore_index=True)\n",
    "        test_df = pd.concat([temp_df[split_index:], test_df], ignore_index=True)\n",
    "        \n",
    "    if rand_factor:\n",
    "        for _ in range(rand_factor):\n",
    "            train_df = train_df.sample(frac=1).reset_index(drop=True)\n",
    "            test_df = test_df.sample(frac=1).reset_index(drop=True)\n",
    "    \n",
    "    return train_df, test_df"
   ]
  },
  {
   "cell_type": "markdown",
   "metadata": {},
   "source": [
    "### Dataset Preprocessing"
   ]
  },
  {
   "cell_type": "markdown",
   "metadata": {},
   "source": [
    "* Label Encoding"
   ]
  },
  {
   "cell_type": "code",
   "execution_count": 132,
   "metadata": {},
   "outputs": [],
   "source": [
    "def LabelEncoder(df):\n",
    "    '''\n",
    "        Encodes Labels\n",
    "        \n",
    "        Arguments\n",
    "        ---------\n",
    "        df : Pandas Dataframe\n",
    "            Dataframe of shape (m, n), where m is number of rows and n is the number of columns\n",
    "        '''\n",
    "    df['label'] = df['label'].astype('category')\n",
    "    df['encoded_labels'] = df['label'].cat.codes"
   ]
  },
  {
   "cell_type": "code",
   "execution_count": 133,
   "metadata": {},
   "outputs": [
    {
     "data": {
      "text/html": [
       "<div>\n",
       "<style scoped>\n",
       "    .dataframe tbody tr th:only-of-type {\n",
       "        vertical-align: middle;\n",
       "    }\n",
       "\n",
       "    .dataframe tbody tr th {\n",
       "        vertical-align: top;\n",
       "    }\n",
       "\n",
       "    .dataframe thead th {\n",
       "        text-align: right;\n",
       "    }\n",
       "</style>\n",
       "<table border=\"1\" class=\"dataframe\">\n",
       "  <thead>\n",
       "    <tr style=\"text-align: right;\">\n",
       "      <th></th>\n",
       "      <th>text</th>\n",
       "      <th>label</th>\n",
       "    </tr>\n",
       "  </thead>\n",
       "  <tbody>\n",
       "    <tr>\n",
       "      <th>0</th>\n",
       "      <td>@USAirways Is there a phone line to call into ...</td>\n",
       "      <td>1</td>\n",
       "    </tr>\n",
       "    <tr>\n",
       "      <th>1</th>\n",
       "      <td>@united Bag was finally delivered and intact. ...</td>\n",
       "      <td>2</td>\n",
       "    </tr>\n",
       "    <tr>\n",
       "      <th>2</th>\n",
       "      <td>@usairways Thanks to Kevin and team at F38ish ...</td>\n",
       "      <td>2</td>\n",
       "    </tr>\n",
       "    <tr>\n",
       "      <th>3</th>\n",
       "      <td>@AmericanAir Yes, talked to them. FLL says is ...</td>\n",
       "      <td>0</td>\n",
       "    </tr>\n",
       "    <tr>\n",
       "      <th>4</th>\n",
       "      <td>@VirginAmerica and it's a really big bad thing...</td>\n",
       "      <td>0</td>\n",
       "    </tr>\n",
       "  </tbody>\n",
       "</table>\n",
       "</div>"
      ],
      "text/plain": [
       "                                                text  label\n",
       "0  @USAirways Is there a phone line to call into ...      1\n",
       "1  @united Bag was finally delivered and intact. ...      2\n",
       "2  @usairways Thanks to Kevin and team at F38ish ...      2\n",
       "3  @AmericanAir Yes, talked to them. FLL says is ...      0\n",
       "4  @VirginAmerica and it's a really big bad thing...      0"
      ]
     },
     "execution_count": 133,
     "metadata": {},
     "output_type": "execute_result"
    }
   ],
   "source": [
    "# Encoding Labels\n",
    "LabelEncoder(tweets_df)\n",
    "tweets_df = tweets_df.drop(columns=[\"label\"])\n",
    "tweets_df = tweets_df.rename(columns={\"encoded_labels\": \"label\"})\n",
    "tweets_df.head()"
   ]
  },
  {
   "cell_type": "markdown",
   "metadata": {},
   "source": [
    "* Bag of Words (BOW)"
   ]
  },
  {
   "cell_type": "code",
   "execution_count": 134,
   "metadata": {},
   "outputs": [],
   "source": [
    "def clean_text(text, stopwords=None):\n",
    "    '''\n",
    "        Cleans Text\n",
    "        \n",
    "        Arguments\n",
    "        ---------\n",
    "        text : str            \n",
    "            \n",
    "        stopwords: list\n",
    "            Array of shape (x, ), where x is the number of stopwords \n",
    "        \n",
    "        Returns\n",
    "        --------\n",
    "        cleaned_text: str\n",
    "            Cleaned text\n",
    "        '''\n",
    "    cleaned_text = \"\"\n",
    "\n",
    "    cleaned_text = re.sub(\"[^\\w]\", \" \", text) # Removing punctautions\n",
    "    cleaned_text = cleaned_text.lower() # Converting to lower case\n",
    "    # Removing Stopwords\n",
    "    if stopwords:\n",
    "        cleaned_text = cleaned_text.split()\n",
    "        cleaned_text = [x for x in cleaned_text if x not in stopwords]\n",
    "        cleaned_text = \" \".join(cleaned_text)\n",
    "        \n",
    "    return cleaned_text\n",
    "\n",
    "def get_stopwords_and_vocab(texts, thresh=2):\n",
    "    '''\n",
    "        Extracts stopwords and vobcabulary from texts on the basis of a threshold\n",
    "        \n",
    "        Arguments\n",
    "        ---------\n",
    "        texts : list\n",
    "            Array of shape (m, ), where m is number examples\n",
    "            \n",
    "        thresh: int\n",
    "            Default value is 2\n",
    "        \n",
    "        Returns\n",
    "        --------\n",
    "        stop_words : list\n",
    "            Array of shape (x, ), where x is the number of stop words\n",
    "            \n",
    "        vocab : list\n",
    "            Array of shape (n, ), where n is the number of features\n",
    "        '''\n",
    "    stop_words, vocab = list(), list()\n",
    "    \n",
    "    # Stopwords from the texts\n",
    "    # Creating Dictionary\n",
    "    w_dict = dict()\n",
    "    for text in texts:\n",
    "        cleaned_text = clean_text(text).split()\n",
    "        for word in cleaned_text:\n",
    "            if word in w_dict:\n",
    "                w_dict[word] += 1\n",
    "            else:\n",
    "                w_dict[word] = 1\n",
    "    # Extracting Stopwords\n",
    "    for word, count in w_dict.items():\n",
    "        if count < thresh:\n",
    "            stop_words.append(word)\n",
    "        else:\n",
    "            vocab.append(word)\n",
    "    # Sorting\n",
    "    stop_words, vocab = sorted(stop_words), sorted(vocab)\n",
    "    \n",
    "    return stop_words, vocab\n",
    "    \n",
    "def tokenize(text):\n",
    "    '''\n",
    "        Tokenizes sentence to words\n",
    "        \n",
    "        Arguments\n",
    "        ---------\n",
    "        text : str\n",
    "        \n",
    "        Returns\n",
    "        --------\n",
    "        tokenized_text: list\n",
    "            Array of shape (n, ), where n is the number of words in text\n",
    "        '''\n",
    "    tokenized_text = None\n",
    "    tokenized_text = text.split()\n",
    "    return tokenized_text\n",
    "\n",
    "def BOW(texts, vocab, stop_words):\n",
    "    '''\n",
    "        Make Bag Of Words Features of Texts\n",
    "        \n",
    "        Arguments\n",
    "        ---------\n",
    "        texts : list\n",
    "            Array of shape (m, ), where m is number examples\n",
    "            \n",
    "        vocab : list\n",
    "            Array of shape (n, ), where n is the number of features\n",
    "        \n",
    "        stop_words : list\n",
    "            Array of shape (x, ), where x is the number of stop words\n",
    "        \n",
    "        Returns\n",
    "        --------\n",
    "        feature_vectors : numpy array\n",
    "            Array of shape (m, n), where m is the number of examples and n is the number of features\n",
    "        '''\n",
    "    feature_vectors = list()\n",
    "    \n",
    "    # Initial Requirements\n",
    "    for index, text in enumerate(texts):\n",
    "        clear_output(wait=True)\n",
    "\n",
    "        temp = np.zeros(len(vocab))\n",
    "        cleaned_text = tokenize(clean_text(text, stopwords=stop_words))\n",
    "        for i, word in enumerate(vocab):\n",
    "            if word in cleaned_text:\n",
    "                temp[i] += 1\n",
    "        feature_vectors.append(temp)\n",
    "\n",
    "        print(\"Building Feature Vectors Current Progress =\", np.round((index+1)/len(texts) *100, 2), \"%\")\n",
    "    print(\"Completed!!!\")\n",
    "    feature_vectors = np.array(feature_vectors)\n",
    "    return feature_vectors"
   ]
  },
  {
   "cell_type": "code",
   "execution_count": 135,
   "metadata": {},
   "outputs": [],
   "source": [
    "# Extracting Stopwords and Vocabulary\n",
    "file = open(\"stopwords.txt\", \"r\")\n",
    "stop_words, vocab = get_stopwords_and_vocab(tweets_df['text'])\n",
    "stop_words += file.read().split()\n",
    "stop_words = sorted(stop_words)\n",
    "file.close()"
   ]
  },
  {
   "cell_type": "markdown",
   "metadata": {},
   "source": [
    "* Splitting"
   ]
  },
  {
   "cell_type": "code",
   "execution_count": 136,
   "metadata": {},
   "outputs": [],
   "source": [
    "# Train-Test Split\n",
    "full_train_df, test_df = split_dataset(tweets_df, classes, rand_factor=3)"
   ]
  },
  {
   "cell_type": "code",
   "execution_count": 137,
   "metadata": {},
   "outputs": [],
   "source": [
    "# Train-Validation Split\n",
    "train_df, val_df = split_dataset(full_train_df, classes, rand_factor=3)"
   ]
  },
  {
   "cell_type": "markdown",
   "metadata": {},
   "source": [
    "* Extracting Features"
   ]
  },
  {
   "cell_type": "code",
   "execution_count": 138,
   "metadata": {},
   "outputs": [],
   "source": [
    "def df_to_data(df, vocab, stopwords):\n",
    "    '''\n",
    "        Converts Dataframe to Numpy Array with combining labels and BOW features\n",
    "        \n",
    "        Arguments\n",
    "        ---------\n",
    "        texts : list\n",
    "            Array of shape (m, ), where m is number examples\n",
    "            \n",
    "        vocab : list\n",
    "            Array of shape (n, ), where n is the number of features\n",
    "        \n",
    "        stop_words : list\n",
    "            Array of shape (x, ), where x is the number of stop words\n",
    "        \n",
    "        Returns\n",
    "        --------\n",
    "        data : numpy array\n",
    "            Array of shape (m, n+1), where m is the number of examples and n is the number of features\n",
    "        '''\n",
    "    data = None\n",
    "    data = BOW(df['text'], vocab, stopwords)\n",
    "    data = np.insert(data, len(data[0]), df['label'], axis=1)\n",
    "    return data"
   ]
  },
  {
   "cell_type": "code",
   "execution_count": 139,
   "metadata": {},
   "outputs": [
    {
     "name": "stdout",
     "output_type": "stream",
     "text": [
      "Building Feature Vectors Current Progress = 100.0 %\n",
      "Completed!!!\n"
     ]
    }
   ],
   "source": [
    "full_train_data = df_to_data(full_train_df, vocab, stop_words)"
   ]
  },
  {
   "cell_type": "code",
   "execution_count": 140,
   "metadata": {},
   "outputs": [
    {
     "name": "stdout",
     "output_type": "stream",
     "text": [
      "Building Feature Vectors Current Progress = 100.0 %\n",
      "Completed!!!\n"
     ]
    }
   ],
   "source": [
    "test_data = df_to_data(test_df, vocab, stop_words)"
   ]
  },
  {
   "cell_type": "code",
   "execution_count": 141,
   "metadata": {},
   "outputs": [
    {
     "name": "stdout",
     "output_type": "stream",
     "text": [
      "Building Feature Vectors Current Progress = 100.0 %\n",
      "Completed!!!\n"
     ]
    }
   ],
   "source": [
    "train_data = df_to_data(train_df, vocab, stop_words)"
   ]
  },
  {
   "cell_type": "code",
   "execution_count": 142,
   "metadata": {},
   "outputs": [
    {
     "name": "stdout",
     "output_type": "stream",
     "text": [
      "Building Feature Vectors Current Progress = 100.0 %\n",
      "Completed!!!\n"
     ]
    }
   ],
   "source": [
    "val_data = df_to_data(val_df, vocab, stop_words)"
   ]
  },
  {
   "cell_type": "markdown",
   "metadata": {},
   "source": [
    "### Multiclass Logistic Regressor Class"
   ]
  },
  {
   "cell_type": "code",
   "execution_count": 145,
   "metadata": {},
   "outputs": [],
   "source": [
    "class MULLR:\n",
    "    '''\n",
    "    A multiclass logistic regressor that trains its weights on given training data and then\n",
    "    tests itself on testing data and shows result in the form of confusion matrix for all classes.\n",
    "    '''\n",
    "    def __init__(self, classes=None, alpha=0.5, num_epoch=100, conv_thresh=0.001, batch_size=32):\n",
    "        '''\n",
    "        Initializes all atributes to default values\n",
    "        '''\n",
    "        self.classes = classes\n",
    "        self.batch_size = batch_size\n",
    "        self.weights = None\n",
    "        self.biases = None\n",
    "        self.alpha = alpha\n",
    "        self.num_epoch = num_epoch\n",
    "        self.conv_thresh = conv_thresh\n",
    "        self.error = 0.0\n",
    "        \n",
    "    def initialize(self, data):\n",
    "        '''\n",
    "        Initializes weights and biases.\n",
    "        \n",
    "        Arguments\n",
    "        ---------\n",
    "        data : numpy array\n",
    "            Array of shape (m, n+1), where m is the number of examples and n is the number of features\n",
    "        '''\n",
    "        self.weights = np.zeros((len(self.classes), len(data[0])-1))\n",
    "        self.biases = np.zeros(3)\n",
    "    \n",
    "    def softmax(self, x, y):\n",
    "        '''\n",
    "        Calculates softmax.\n",
    "        \n",
    "        Arguments\n",
    "        ---------\n",
    "        x : numpy array\n",
    "            Feature vector of shape (n, ), where n is the number of features\n",
    "            \n",
    "        y : int\n",
    "            Label\n",
    "        \n",
    "        Returns\n",
    "        --------\n",
    "        softmax : float\n",
    "            The value after applying softmax.\n",
    "        '''\n",
    "        softmax = None\n",
    "        z = np.array([(np.dot(np.transpose(self.weights[k]), x)+self.biases[k]) for k in range(len(self.classes))])\n",
    "        z = self.scale(z)\n",
    "        exp_y = np.exp(z[y])\n",
    "        exp_all = np.sum(np.exp(z))\n",
    "        softmax = exp_y / exp_all\n",
    "        return softmax\n",
    "    \n",
    "    def predict_prob(self, x):\n",
    "        '''\n",
    "        Calculates probabilty of all labels using softmax\n",
    "        \n",
    "        Arguments\n",
    "        ---------\n",
    "        x : Numpy array\n",
    "            Numpy array of shape (n, ), where n is number of features.\n",
    "        \n",
    "        Returns\n",
    "        --------\n",
    "        h_x : numpy array\n",
    "            Array of shape (k, ), where k is the number of classes            \n",
    "        '''\n",
    "        h_x = None\n",
    "        h_x = np.array([self.softmax(x, k) for k in range(len(self.classes))])\n",
    "        return h_x\n",
    "    \n",
    "    def compute_cross_entropy_loss(self, X, Y):\n",
    "        '''\n",
    "        Calculates cross entropy loss over one example\n",
    "        \n",
    "        Arguments\n",
    "        ---------\n",
    "        X : Numpy array\n",
    "            Numpy array of shape (x, ), where x is number of features.\n",
    "\n",
    "        Y : int\n",
    "            The label of example instance\n",
    "        \n",
    "        Returns\n",
    "        --------\n",
    "        ce_loss : float\n",
    "            The value between 0 to nan(if prediction is 0).\n",
    "        '''\n",
    "        ce_loss = 0.0\n",
    "        ce_loss = np.log(self.softmax(X, Y))\n",
    "        return ce_loss\n",
    "    \n",
    "    def mini_batch(self, data, num_feature, start, end):\n",
    "        '''\n",
    "        Randomly selects given number of features from the data\n",
    "        \n",
    "        Arguments\n",
    "        ---------\n",
    "        data : numpy array\n",
    "            Array of shape (m, n+1), where m is the number of examples and n is the number of features\n",
    "           \n",
    "        num_feature: int\n",
    "            Number of features\n",
    "        Returns\n",
    "        --------\n",
    "        X: Numpy array\n",
    "            Array of shape (k, n), where k is the number of classes and n is the number of features\n",
    "        '''\n",
    "        X = [list() for _ in range(len(self.classes))]  \n",
    "        mini_batch = data[start:end]\n",
    "        # Separating data of all classes from mini_batch\n",
    "        X_temp, Y_temp = mini_batch[:, 0:num_feature], mini_batch[:, num_feature].astype('int')\n",
    "        for i in range(len(mini_batch)):\n",
    "            X[Y_temp[i]].append(X_temp[i])\n",
    "        X = np.array(X)\n",
    "        return X\n",
    "    \n",
    "    def scale(self, X):\n",
    "        '''\n",
    "        Scales input to numbers of smaller range to avoid blowing up of softmax\n",
    "        \n",
    "        Arguments\n",
    "        ---------\n",
    "        X : numpy array\n",
    "            Array of shape (k), where k is the number of classes\n",
    "        Returns\n",
    "        --------\n",
    "        scaled : numpy array\n",
    "            Array of shape (k), where k is the number of classes\n",
    "        '''\n",
    "        scaled = None\n",
    "        scaled = X - np.max(X)\n",
    "        return scaled\n",
    "    \n",
    "    def gradient_descent(self, data):\n",
    "        '''\n",
    "        Minimizes loss and updates the `self.weights` using Mini-Batch Gradient Descent\n",
    "        \n",
    "        Arguments\n",
    "        ---------\n",
    "        data : numpy array\n",
    "            Array of shape (m, n+1), where m is the number of examples and n is the number of features   \n",
    "        '''\n",
    "        m = len(data) # number of training examples\n",
    "        n = data[0].size - 1 # number of features\n",
    "        Xd , Yd = data[:, 0:n], data[:, n].astype('int')\n",
    "        old_cost = np.inf\n",
    "        converged = False\n",
    "        cost = np.NINF\n",
    "        for i in range(self.num_epoch):\n",
    "            clear_output(wait=True)\n",
    "            start = 0\n",
    "            end = self.batch_size\n",
    "            completed = False\n",
    "            while True:\n",
    "                if completed:\n",
    "                    break\n",
    "                elif (start + self.batch_size) >= m:\n",
    "                    start = end\n",
    "                    end = m\n",
    "                    completed = True                    \n",
    "                X = self.mini_batch(data, n, start, end)\n",
    "                start += self.batch_size\n",
    "                end += self.batch_size\n",
    "                # Computing Deltas\n",
    "                for k in range(len(self.classes)):\n",
    "                    m_k = len(X[k]) # Number of data points of k class in batch\n",
    "                    if m_k:\n",
    "                        pred_probs = np.array([(-1)*(1 - self.softmax(X[k][i], k)) for i in range(m_k)]) # 1 x m_k\n",
    "                        # Updating Biases\n",
    "                        b_delta = ((self.alpha*np.sum(pred_probs)) / m_k)\n",
    "                        self.biases[k] -= b_delta\n",
    "                        # Updating Weights\n",
    "                        X_k = np.array(X[k]) # m_k x n\n",
    "                        w_delta = ((self.alpha*(np.dot(pred_probs, X_k))) / m_k)\n",
    "                        self.weights[k] -= w_delta\n",
    "\n",
    "            # Adding the cost for current iteration\n",
    "            cost = (-1/m)*np.sum(np.array([self.compute_cross_entropy_loss(Xd[i], Yd[i]) for i in range(m)]))\n",
    "            print(\"Training Current Progress =\", np.round((i+1)/self.num_epoch *100, 2), \"% ---- Cost:\", cost)\n",
    "\n",
    "            # If the difference of two successive costs is less than the given threshold the model has converged\n",
    "            if np.abs(old_cost-cost) < self.conv_thresh:\n",
    "                print(\"Model Converged\")\n",
    "                converged = True\n",
    "                break\n",
    "            old_cost = cost\n",
    "        print(\"Completed!!!\")\n",
    "        \n",
    "        # Cost of model\n",
    "        self.error_rate = cost\n",
    "        if not converged:\n",
    "            print(\"Model Didnot Converge\")\n",
    "    \n",
    "    def train_model(self, data):\n",
    "        '''\n",
    "        Learns `self.weights` for the given data\n",
    "        \n",
    "        Arguments\n",
    "        ---------\n",
    "        data : numpy array\n",
    "            Array of shape (m, n+1), where m is the number of examples and n is the number of features  \n",
    "        '''\n",
    "        self.initialize(data)\n",
    "        self.gradient_descent(data)\n",
    "\n",
    "    def prediction(self, x):\n",
    "        '''\n",
    "        Calculates predicted label\n",
    "\n",
    "        Arguments\n",
    "        ---------\n",
    "        x : numpy array\n",
    "            Array of shape (n, ), where n is the number of features\n",
    "\n",
    "        Returns\n",
    "        --------\n",
    "        y_cap : int\n",
    "            The encoded label according to the threshold.\n",
    "        '''\n",
    "        y_cap = \"\"\n",
    "        pred_prob = self.predict_prob(x)\n",
    "        y_cap = np.argmax(pred_prob)\n",
    "        return y_cap\n",
    "    \n",
    "    def get_tp(self, cm, y):\n",
    "        '''\n",
    "        Calculates True Positives of given class w.r.t. other classes\n",
    "        \n",
    "        Arguments\n",
    "        ---------\n",
    "        cm: numpy array\n",
    "            Array of shape (k, k), where k is the number of classes\n",
    "        \n",
    "        y: int\n",
    "            Label of given classe\n",
    "        \n",
    "        Returns\n",
    "        --------\n",
    "        tp: int\n",
    "            True Positives\n",
    "        '''\n",
    "        tp = 0\n",
    "        tp = cm[y][y]\n",
    "        return tp\n",
    "    \n",
    "    def get_tn(self, cm, y):\n",
    "        '''\n",
    "        Calculates True Negatives of given class w.r.t. other classes\n",
    "        \n",
    "        Arguments\n",
    "        ---------\n",
    "        cm: numpy array\n",
    "            Array of shape (k, k), where k is the number of classes\n",
    "        \n",
    "        y: int\n",
    "            Label of given classe\n",
    "        \n",
    "        Returns\n",
    "        --------\n",
    "        tn: int\n",
    "            True Negatives\n",
    "        '''\n",
    "        tn = 0\n",
    "        for i in range(len(cm)):\n",
    "            if i != y:\n",
    "                for j in range(len(cm)):\n",
    "                    if j != y:\n",
    "                        fp += cm[i][j]\n",
    "        return tn                \n",
    "    \n",
    "    def get_fp(self, cm, y):\n",
    "        '''\n",
    "        Calculates False Positives of given class w.r.t. other classes\n",
    "        \n",
    "        Arguments\n",
    "        ---------\n",
    "        cm: numpy array\n",
    "            Array of shape (k, k), where k is the number of classes\n",
    "        \n",
    "        y: int\n",
    "            Label of given classe\n",
    "        \n",
    "        Returns\n",
    "        --------\n",
    "        fp: int\n",
    "            False Positives\n",
    "        '''\n",
    "        fp = 0\n",
    "        for j in range(len(cm)):\n",
    "            if j != y:\n",
    "                fp += cm[y][j]\n",
    "        return fp\n",
    "    \n",
    "    def get_fn(self, cm, y):\n",
    "        '''\n",
    "        Calculates False Negatives of given class w.r.t. other classes\n",
    "        \n",
    "        Arguments\n",
    "        ---------\n",
    "        cm: numpy array\n",
    "            Array of shape (k, k), where k is the number of classes\n",
    "        \n",
    "        y: int\n",
    "            Label of given classe\n",
    "        \n",
    "        Returns\n",
    "        --------\n",
    "        fn: int\n",
    "            False Negatives\n",
    "        '''\n",
    "        fn = 0\n",
    "        for i in range(len(cm)):\n",
    "            if i != y:\n",
    "                fn += cm[i][y]\n",
    "        return fn\n",
    "    \n",
    "    def precision(self, cm):\n",
    "        '''\n",
    "        Calculates Macro Precision\n",
    "        \n",
    "        Arguments\n",
    "        ---------\n",
    "        cm: numpy array\n",
    "            Array of shape (k, k), where k is the number of classes\n",
    "        \n",
    "        Returns\n",
    "        --------\n",
    "        precision: float\n",
    "            Macro Precision\n",
    "        '''\n",
    "        precision = 0\n",
    "        for i in range(len(cm)):\n",
    "            temp = (self.get_tp(cm, i) + self.get_fp(cm, i))\n",
    "            if temp:\n",
    "                precision += (self.get_tp(cm, i) / temp)\n",
    "        precision /= len(cm)\n",
    "        return precision\n",
    "    \n",
    "    def recall(self, cm):\n",
    "        '''\n",
    "        Calculates Macro Recall\n",
    "        \n",
    "        Arguments\n",
    "        ---------\n",
    "        cm: numpy array\n",
    "            Array of shape (k, k), where k is the number of classes\n",
    "        \n",
    "        Returns\n",
    "        --------\n",
    "        recall: float\n",
    "            Macro Recall\n",
    "        '''\n",
    "        recall = 0\n",
    "        for i in range(len(cm)):\n",
    "            temp = (self.get_tp(cm, i) + self.get_fn(cm, i))\n",
    "            if temp:\n",
    "                recall += (self.get_tp(cm, i) / temp)\n",
    "        recall /= len(cm)\n",
    "        return recall\n",
    "    \n",
    "    def test_model(self, data):\n",
    "        '''\n",
    "          Tests model based on learned weights and creates confusion matrix.\n",
    "          \n",
    "          Arguments\n",
    "          ---------\n",
    "          data : numpy array\n",
    "            Array of shape (m, n+1), where m is the number of examples and n is the number of features\n",
    "        '''\n",
    "        print(\"Testing and Building Confusion Matrix .....\")\n",
    "        m = len(data)\n",
    "        n = data[0].size-1\n",
    "        X , Y = data[:, 0:n], data[:, n].astype('int')\n",
    "        \n",
    "        cm = np.zeros((len(self.classes), len(self.classes)))\n",
    "        \n",
    "        for i in range(m):\n",
    "            y_cap = self.prediction(X[i])\n",
    "            cm[y_cap][Y[i]] += 1\n",
    "\n",
    "        self.evaluation_matrix(cm)\n",
    "\n",
    "        # Calculating Accuracy, Precision, Recall and F1 Score\n",
    "        accuracy = np.sum(np.array([self.get_tp(cm, i) for i in range(len(cm))])) / np.sum(cm)\n",
    "        precision = self.precision(cm)\n",
    "        recall = self.recall(cm)\n",
    "        f1_score = ((2*recall*precision) / (recall + precision))\n",
    "        print(\"\\n\\nAccuracy = %.3f\" % (accuracy))\n",
    "        print(\"Precision = %.3f\" % (precision))\n",
    "        print(\"Recall = %.3f\" % (recall))\n",
    "        print(\"F1 Score = %.3f\" % (f1_score)) \n",
    "        \n",
    "    def evaluation_matrix(self, cm):\n",
    "        '''\n",
    "            Plots confusion matrix.\n",
    "            \n",
    "            Arguments\n",
    "            ---------\n",
    "            cm: numpy array\n",
    "                Array of shape (k, k), where k is the number of classes\n",
    "        '''\n",
    "        df_cm = pd.DataFrame(cm, index = [i for i in self.classes],\n",
    "                  columns = [i for i in self.classes])\n",
    "        sn.set(font_scale=1.4)\n",
    "        sn.heatmap(df_cm, annot=True, annot_kws={\"size\": 16}, fmt='g', cmap=\"BuPu\")\n",
    "        plt.show()"
   ]
  },
  {
   "cell_type": "markdown",
   "metadata": {},
   "source": [
    "###### Training For Train Set"
   ]
  },
  {
   "cell_type": "code",
   "execution_count": 146,
   "metadata": {},
   "outputs": [
    {
     "name": "stdout",
     "output_type": "stream",
     "text": [
      "Training Current Progress = 91.0 % ---- Cost: 0.5895152097905868\n",
      "Model Converged\n",
      "Completed!!!\n"
     ]
    }
   ],
   "source": [
    "A = MULLR(classes=classes, alpha=0.05, num_epoch=200, conv_thresh=0.0001, batch_size=32)\n",
    "A.train_model(train_data)"
   ]
  },
  {
   "cell_type": "markdown",
   "metadata": {},
   "source": [
    "###### Testing on Train Set"
   ]
  },
  {
   "cell_type": "code",
   "execution_count": 147,
   "metadata": {},
   "outputs": [
    {
     "name": "stdout",
     "output_type": "stream",
     "text": [
      "Testing and Building Confusion Matrix .....\n"
     ]
    },
    {
     "data": {
      "image/png": "[encoded data removed]",
      "text/plain": [
       "<Figure size 432x288 with 2 Axes>"
      ]
     },
     "metadata": {},
     "output_type": "display_data"
    },
    {
     "name": "stdout",
     "output_type": "stream",
     "text": [
      "\n",
      "\n",
      "Accuracy = 0.819\n",
      "Precision = 0.777\n",
      "Recall = 0.825\n",
      "F1 Score = 0.800\n"
     ]
    }
   ],
   "source": [
    "A.test_model(train_data)"
   ]
  },
  {
   "cell_type": "markdown",
   "metadata": {},
   "source": [
    "###### Testing on Validation Set (For Training Parameters)"
   ]
  },
  {
   "cell_type": "code",
   "execution_count": 148,
   "metadata": {},
   "outputs": [
    {
     "name": "stdout",
     "output_type": "stream",
     "text": [
      "Testing and Building Confusion Matrix .....\n"
     ]
    },
    {
     "data": {
      "image/png": "[encoded data removed]",
      "text/plain": [
       "<Figure size 432x288 with 2 Axes>"
      ]
     },
     "metadata": {},
     "output_type": "display_data"
    },
    {
     "name": "stdout",
     "output_type": "stream",
     "text": [
      "\n",
      "\n",
      "Accuracy = 0.725\n",
      "Precision = 0.670\n",
      "Recall = 0.690\n",
      "F1 Score = 0.680\n"
     ]
    }
   ],
   "source": [
    "A.test_model(val_data)"
   ]
  },
  {
   "cell_type": "markdown",
   "metadata": {},
   "source": [
    "#### Training after tunning parameters"
   ]
  },
  {
   "cell_type": "code",
   "execution_count": 149,
   "metadata": {},
   "outputs": [
    {
     "name": "stdout",
     "output_type": "stream",
     "text": [
      "Training Current Progress = 43.0 % ---- Cost: 0.6463640837067026\n",
      "Model Converged\n",
      "Completed!!!\n"
     ]
    }
   ],
   "source": [
    "A.train_model(full_train_data)"
   ]
  },
  {
   "cell_type": "code",
   "execution_count": 150,
   "metadata": {},
   "outputs": [
    {
     "name": "stdout",
     "output_type": "stream",
     "text": [
      "Testing and Building Confusion Matrix .....\n"
     ]
    },
    {
     "data": {
      "image/png": "[encoded data removed]",
      "text/plain": [
       "<Figure size 432x288 with 2 Axes>"
      ]
     },
     "metadata": {},
     "output_type": "display_data"
    },
    {
     "name": "stdout",
     "output_type": "stream",
     "text": [
      "\n",
      "\n",
      "Accuracy = 0.779\n",
      "Precision = 0.739\n",
      "Recall = 0.786\n",
      "F1 Score = 0.762\n"
     ]
    }
   ],
   "source": [
    "A.test_model(full_train_data)"
   ]
  },
  {
   "cell_type": "markdown",
   "metadata": {},
   "source": [
    "### Evaluation Report"
   ]
  },
  {
   "cell_type": "code",
   "execution_count": 151,
   "metadata": {},
   "outputs": [
    {
     "name": "stdout",
     "output_type": "stream",
     "text": [
      "Testing and Building Confusion Matrix .....\n"
     ]
    },
    {
     "data": {
      "image/png": "[encoded data removed]",
      "text/plain": [
       "<Figure size 432x288 with 2 Axes>"
      ]
     },
     "metadata": {},
     "output_type": "display_data"
    },
    {
     "name": "stdout",
     "output_type": "stream",
     "text": [
      "\n",
      "\n",
      "Accuracy = 0.711\n",
      "Precision = 0.656\n",
      "Recall = 0.686\n",
      "F1 Score = 0.671\n"
     ]
    }
   ],
   "source": [
    "A.test_model(test_data)"
   ]
  },
  {
   "cell_type": "markdown",
   "metadata": {},
   "source": [
    "* **Accuracy = 0.711**\n",
    "* **Precision = 0.656**\n",
    "* **Recall = 0.686**\n",
    "* **F1 Score = 0.671**\n",
    "* Here I have presented **Macro Scores** because dataset is more skewed towards negative class (that's shown in bar graph under Analysing Dataset Section). I have tunned the parameters of my model on the basis of validation set scores. After all tunning, trained it also on validation set and tested on new test data set.\n",
    "* I have also evaluted training data set, by testing my model on it, to avoid over-fitting."
   ]
  },
  {
   "cell_type": "code",
   "execution_count": null,
   "metadata": {},
   "outputs": [],
   "source": []
  }
 ],
 "metadata": {
  "kernelspec": {
   "display_name": "Python 3",
   "language": "python",
   "name": "python3"
  },
  "language_info": {
   "codemirror_mode": {
    "name": "ipython",
    "version": 3
   },
   "file_extension": ".py",
   "mimetype": "text/x-python",
   "name": "python",
   "nbconvert_exporter": "python",
   "pygments_lexer": "ipython3",
   "version": "3.7.3"
  }
 },
 "nbformat": 4,
 "nbformat_minor": 2
}
