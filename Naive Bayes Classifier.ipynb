{
 "cells": [
  {
   "cell_type": "markdown",
   "metadata": {},
   "source": [
    "###### Neccessary Imports"
   ]
  },
  {
   "cell_type": "code",
   "execution_count": 1,
   "metadata": {},
   "outputs": [],
   "source": [
    "import numpy as np\n",
    "import pandas as pd\n",
    "import matplotlib.pyplot as plt\n",
    "import seaborn as sn\n",
    "import random\n",
    "import math\n",
    "import re\n",
    "from IPython.display import clear_output\n",
    "%matplotlib inline"
   ]
  },
  {
   "cell_type": "markdown",
   "metadata": {},
   "source": [
    "###### Loading Dataset"
   ]
  },
  {
   "cell_type": "code",
   "execution_count": 2,
   "metadata": {},
   "outputs": [],
   "source": [
    "tweets_df = pd.read_csv('Tweets.csv')\n",
    "tweets_df = tweets_df.rename(columns={\"airline_sentiment\": \"label\"})"
   ]
  },
  {
   "cell_type": "markdown",
   "metadata": {},
   "source": [
    "###### Analysing Dataset"
   ]
  },
  {
   "cell_type": "code",
   "execution_count": 3,
   "metadata": {},
   "outputs": [
    {
     "data": {
      "text/html": [
       "<div>\n",
       "<style scoped>\n",
       "    .dataframe tbody tr th:only-of-type {\n",
       "        vertical-align: middle;\n",
       "    }\n",
       "\n",
       "    .dataframe tbody tr th {\n",
       "        vertical-align: top;\n",
       "    }\n",
       "\n",
       "    .dataframe thead th {\n",
       "        text-align: right;\n",
       "    }\n",
       "</style>\n",
       "<table border=\"1\" class=\"dataframe\">\n",
       "  <thead>\n",
       "    <tr style=\"text-align: right;\">\n",
       "      <th></th>\n",
       "      <th>label</th>\n",
       "      <th>text</th>\n",
       "    </tr>\n",
       "  </thead>\n",
       "  <tbody>\n",
       "    <tr>\n",
       "      <th>0</th>\n",
       "      <td>neutral</td>\n",
       "      <td>@USAirways Is there a phone line to call into ...</td>\n",
       "    </tr>\n",
       "    <tr>\n",
       "      <th>1</th>\n",
       "      <td>positive</td>\n",
       "      <td>@united Bag was finally delivered and intact. ...</td>\n",
       "    </tr>\n",
       "    <tr>\n",
       "      <th>2</th>\n",
       "      <td>positive</td>\n",
       "      <td>@usairways Thanks to Kevin and team at F38ish ...</td>\n",
       "    </tr>\n",
       "    <tr>\n",
       "      <th>3</th>\n",
       "      <td>negative</td>\n",
       "      <td>@AmericanAir Yes, talked to them. FLL says is ...</td>\n",
       "    </tr>\n",
       "    <tr>\n",
       "      <th>4</th>\n",
       "      <td>negative</td>\n",
       "      <td>@VirginAmerica and it's a really big bad thing...</td>\n",
       "    </tr>\n",
       "  </tbody>\n",
       "</table>\n",
       "</div>"
      ],
      "text/plain": [
       "      label                                               text\n",
       "0   neutral  @USAirways Is there a phone line to call into ...\n",
       "1  positive  @united Bag was finally delivered and intact. ...\n",
       "2  positive  @usairways Thanks to Kevin and team at F38ish ...\n",
       "3  negative  @AmericanAir Yes, talked to them. FLL says is ...\n",
       "4  negative  @VirginAmerica and it's a really big bad thing..."
      ]
     },
     "execution_count": 3,
     "metadata": {},
     "output_type": "execute_result"
    }
   ],
   "source": [
    "tweets_df.head()"
   ]
  },
  {
   "cell_type": "code",
   "execution_count": 4,
   "metadata": {},
   "outputs": [
    {
     "data": {
      "text/plain": [
       "(14640, 2)"
      ]
     },
     "execution_count": 4,
     "metadata": {},
     "output_type": "execute_result"
    }
   ],
   "source": [
    "tweets_df.shape"
   ]
  },
  {
   "cell_type": "markdown",
   "metadata": {},
   "source": [
    "Classes"
   ]
  },
  {
   "cell_type": "code",
   "execution_count": 5,
   "metadata": {},
   "outputs": [
    {
     "data": {
      "text/plain": [
       "['negative', 'neutral', 'positive']"
      ]
     },
     "execution_count": 5,
     "metadata": {},
     "output_type": "execute_result"
    }
   ],
   "source": [
    "classes = sorted(tweets_df['label'].unique())\n",
    "classes"
   ]
  },
  {
   "cell_type": "markdown",
   "metadata": {},
   "source": [
    "**Dataset is skewed towards Negative class**"
   ]
  },
  {
   "cell_type": "code",
   "execution_count": 6,
   "metadata": {},
   "outputs": [
    {
     "data": {
      "text/plain": [
       "Text(0.5, 0, 'Labels')"
      ]
     },
     "execution_count": 6,
     "metadata": {},
     "output_type": "execute_result"
    },
    {
     "data": {
      "image/png": "[encoded data removed]",
      "text/plain": [
       "<Figure size 432x288 with 1 Axes>"
      ]
     },
     "metadata": {
      "needs_background": "light"
     },
     "output_type": "display_data"
    }
   ],
   "source": [
    "ax = (tweets_df['label'].value_counts(normalize=True)*100).plot(\n",
    "        kind=\"bar\", title='Percentage of Specific Labeled Data in given Dataset')\n",
    "ax.tick_params(axis='x', labelrotation=0)\n",
    "ax.set_ylabel('Percentages %')\n",
    "ax.set_xlabel('Labels')"
   ]
  },
  {
   "cell_type": "markdown",
   "metadata": {},
   "source": [
    "### Dataset Splitting (Stratified) Function"
   ]
  },
  {
   "cell_type": "code",
   "execution_count": 7,
   "metadata": {},
   "outputs": [],
   "source": [
    "def split_dataset(df, classes, split=80, rand_factor=0):\n",
    "    '''\n",
    "        Performs stratified split\n",
    "        \n",
    "        Arguments\n",
    "        ---------\n",
    "        df : Pandas Dataframe\n",
    "            Dataframe of shape (m, n), where m is number of rows and n is the number of columns\n",
    "            \n",
    "        classes: list\n",
    "            List of unique classes of shape (k, ), where k is the number of classes\n",
    "        \n",
    "        split: int\n",
    "            Spliting point\n",
    "            \n",
    "        rand_factor = int\n",
    "            Number of times dataset should be randomized\n",
    "        \n",
    "        Returns\n",
    "        --------\n",
    "        train_df : Pandas Dataframe\n",
    "            Dataframe of shape (m, n), where m is number of rows and n is the number of columns\n",
    "            \n",
    "        test_df : Pandas Dataframe\n",
    "            Dataframe of shape (m, n), where m is number of rows and n is the number of columns\n",
    "        '''\n",
    "    train_df, test_df = pd.DataFrame(), pd.DataFrame()\n",
    "    \n",
    "    label_count = df['label'].value_counts()\n",
    "    for i, c in enumerate(classes):\n",
    "        temp_df = df[df['label'] == i].reset_index(drop=True)\n",
    "        split_index = int(label_count[i] * (split/100))\n",
    "        train_df = pd.concat([temp_df[:split_index], train_df], ignore_index=True)\n",
    "        test_df = pd.concat([temp_df[split_index:], test_df], ignore_index=True)\n",
    "        \n",
    "    if rand_factor:\n",
    "        for _ in range(rand_factor):\n",
    "            train_df = train_df.sample(frac=1).reset_index(drop=True)\n",
    "            test_df = test_df.sample(frac=1).reset_index(drop=True)\n",
    "    \n",
    "    return train_df, test_df"
   ]
  },
  {
   "cell_type": "markdown",
   "metadata": {},
   "source": [
    "### Dataset Preprocessing Functions"
   ]
  },
  {
   "cell_type": "markdown",
   "metadata": {},
   "source": [
    "* Label Encoding"
   ]
  },
  {
   "cell_type": "code",
   "execution_count": 8,
   "metadata": {},
   "outputs": [],
   "source": [
    "def LabelEncoder(df):\n",
    "    '''\n",
    "        Encodes Labels\n",
    "        \n",
    "        Arguments\n",
    "        ---------\n",
    "        df : Pandas Dataframe\n",
    "            Dataframe of shape (m, n), where m is number of rows and n is the number of columns\n",
    "        '''\n",
    "    df['label'] = df['label'].astype('category')\n",
    "    df['encoded_labels'] = df['label'].cat.codes"
   ]
  },
  {
   "cell_type": "code",
   "execution_count": 9,
   "metadata": {},
   "outputs": [
    {
     "data": {
      "text/html": [
       "<div>\n",
       "<style scoped>\n",
       "    .dataframe tbody tr th:only-of-type {\n",
       "        vertical-align: middle;\n",
       "    }\n",
       "\n",
       "    .dataframe tbody tr th {\n",
       "        vertical-align: top;\n",
       "    }\n",
       "\n",
       "    .dataframe thead th {\n",
       "        text-align: right;\n",
       "    }\n",
       "</style>\n",
       "<table border=\"1\" class=\"dataframe\">\n",
       "  <thead>\n",
       "    <tr style=\"text-align: right;\">\n",
       "      <th></th>\n",
       "      <th>text</th>\n",
       "      <th>label</th>\n",
       "    </tr>\n",
       "  </thead>\n",
       "  <tbody>\n",
       "    <tr>\n",
       "      <th>0</th>\n",
       "      <td>@USAirways Is there a phone line to call into ...</td>\n",
       "      <td>1</td>\n",
       "    </tr>\n",
       "    <tr>\n",
       "      <th>1</th>\n",
       "      <td>@united Bag was finally delivered and intact. ...</td>\n",
       "      <td>2</td>\n",
       "    </tr>\n",
       "    <tr>\n",
       "      <th>2</th>\n",
       "      <td>@usairways Thanks to Kevin and team at F38ish ...</td>\n",
       "      <td>2</td>\n",
       "    </tr>\n",
       "    <tr>\n",
       "      <th>3</th>\n",
       "      <td>@AmericanAir Yes, talked to them. FLL says is ...</td>\n",
       "      <td>0</td>\n",
       "    </tr>\n",
       "    <tr>\n",
       "      <th>4</th>\n",
       "      <td>@VirginAmerica and it's a really big bad thing...</td>\n",
       "      <td>0</td>\n",
       "    </tr>\n",
       "  </tbody>\n",
       "</table>\n",
       "</div>"
      ],
      "text/plain": [
       "                                                text  label\n",
       "0  @USAirways Is there a phone line to call into ...      1\n",
       "1  @united Bag was finally delivered and intact. ...      2\n",
       "2  @usairways Thanks to Kevin and team at F38ish ...      2\n",
       "3  @AmericanAir Yes, talked to them. FLL says is ...      0\n",
       "4  @VirginAmerica and it's a really big bad thing...      0"
      ]
     },
     "execution_count": 9,
     "metadata": {},
     "output_type": "execute_result"
    }
   ],
   "source": [
    "# Encoding Labels\n",
    "LabelEncoder(tweets_df)\n",
    "tweets_df = tweets_df.drop(columns=[\"label\"])\n",
    "tweets_df = tweets_df.rename(columns={\"encoded_labels\": \"label\"})\n",
    "tweets_df.head()"
   ]
  },
  {
   "cell_type": "code",
   "execution_count": 10,
   "metadata": {},
   "outputs": [
    {
     "data": {
      "text/plain": [
       "[0, 1, 2]"
      ]
     },
     "execution_count": 10,
     "metadata": {},
     "output_type": "execute_result"
    }
   ],
   "source": [
    "encoded_classes = [i for i in range(len(classes))]\n",
    "encoded_classes"
   ]
  },
  {
   "cell_type": "markdown",
   "metadata": {},
   "source": [
    "* Bag of Words (BOW)"
   ]
  },
  {
   "cell_type": "code",
   "execution_count": 11,
   "metadata": {},
   "outputs": [],
   "source": [
    "def clean_text(text, stopwords):\n",
    "    '''\n",
    "        Cleans Text\n",
    "        \n",
    "        Arguments\n",
    "        ---------\n",
    "        text : str            \n",
    "            \n",
    "        stopwords: list\n",
    "            Array of shape (x, ), where x is the number of stopwords \n",
    "        \n",
    "        Returns\n",
    "        --------\n",
    "        cleaned_text: list\n",
    "            Array of shape (x, ), where x is the number of words in the sentence\n",
    "    '''\n",
    "    cleaned_text = \"\"\n",
    "\n",
    "    cleaned_text = re.sub(\"[^\\w]\", \" \", text) # Removing punctautions\n",
    "    cleaned_text = cleaned_text.lower() # Converting to lower case\n",
    "    cleaned_text = cleaned_text.split() # Tokenizing\n",
    "    # Removing Stopwords\n",
    "    if stopwords:\n",
    "        cleaned_text = [x for x in cleaned_text if x not in stopwords]\n",
    "        \n",
    "    return cleaned_text\n",
    "\n",
    "def get_vocab(texts, stop_words):\n",
    "    '''\n",
    "        Extracts stopwords and vobcabulary from texts on the basis of a threshold\n",
    "        \n",
    "        Arguments\n",
    "        ---------\n",
    "        texts : list\n",
    "            Array of shape (m, ), where m is number examples\n",
    "            \n",
    "        stopwords: list\n",
    "            Array of shape (x, ), where x is the number of stopwords\n",
    "        \n",
    "        Returns\n",
    "        --------            \n",
    "        vocab : list\n",
    "            Array of shape (n, ), where n is the number of words in vocabulary\n",
    "    '''\n",
    "    vocab = list()\n",
    "\n",
    "    for text in texts:\n",
    "        cleaned_text = clean_text(text, stop_words)\n",
    "        for word in cleaned_text:\n",
    "            if word not in vocab:\n",
    "                vocab.append(word)\n",
    "    vocab = sorted(vocab)\n",
    "    return vocab\n",
    "\n",
    "def BOW_for_class(texts, vocab, stop_words):\n",
    "    '''\n",
    "        Calculates count of each word in vocab for the given texts\n",
    "        \n",
    "        Arguments\n",
    "        ---------\n",
    "        texts : list\n",
    "            Array of shape (m, ), where m is number examples\n",
    "            \n",
    "        vocab : list\n",
    "            Array of shape (n, ), where n is the number of words in vocabulary\n",
    "            \n",
    "        stopwords: list\n",
    "            Array of shape (x, ), where x is the number of stopwords\n",
    "        \n",
    "        Returns\n",
    "        --------            \n",
    "        BOW : dictionary\n",
    "            Dictionary of shape (n, ), where n is the number of words in vocabulary\n",
    "    '''\n",
    "    BOW = dict()\n",
    "    \n",
    "    # Initializing BOW with keys from vocab and zero count\n",
    "    BOW = {w:0 for w in vocab}\n",
    "    for text in texts:\n",
    "        cleaned_text = clean_text(text, stop_words)\n",
    "        for word in cleaned_text:\n",
    "            BOW[word] += 1\n",
    "            \n",
    "    return BOW"
   ]
  },
  {
   "cell_type": "markdown",
   "metadata": {},
   "source": [
    "### Training Function"
   ]
  },
  {
   "cell_type": "code",
   "execution_count": 12,
   "metadata": {},
   "outputs": [],
   "source": [
    "def trainNB(doc, classes, stop_words=None):\n",
    "    '''\n",
    "        Calculates log prior, log likelihood and vocabulary for given doc and classes \n",
    "        \n",
    "        Arguments\n",
    "        ---------\n",
    "        docs : Dataframe\n",
    "            Dataframe of shape (m, 2), where m is number examples, each with 'text' and 'label'\n",
    "            \n",
    "        classes : list\n",
    "            Array of shape (n, ), where n is the number of classes\n",
    "            \n",
    "        stopwords: list\n",
    "            Array of shape (x, ), where x is the number of stopwords\n",
    "        \n",
    "        Returns\n",
    "        --------            \n",
    "        log_prior: dict\n",
    "            Dictionary of shape (x, ), where x is the number of classes\n",
    "            \n",
    "        log_likelihood: dict\n",
    "            Dictionary of shape (x, y), where x is the number of classes, y is the number of words in vocabulary\n",
    "            \n",
    "        vocab: list\n",
    "            Array of shape (x, ), where x is the number of words in vocabulary\n",
    "    '''\n",
    "    log_prior, log_likelihood, vocab = dict(), dict(), list()\n",
    "    \n",
    "    N_doc = doc.shape[0]\n",
    "    vocab = get_vocab(doc['text'], stop_words)\n",
    "    big_doc = dict()\n",
    "    for c in classes:\n",
    "        N_c = doc['label'][doc['label'] == c].count()\n",
    "        log_prior[c] = np.log(N_c / N_doc)\n",
    "        \n",
    "        big_doc[c] = BOW_for_class(doc['text'][doc['label'] == c], vocab, stop_words)\n",
    "        \n",
    "        log_likelihood[c] = dict()\n",
    "        N_tokens_c = sum(big_doc[c].values())\n",
    "        for word in vocab:\n",
    "            log_likelihood[c][word] = np.log((big_doc[c][word] + 1) / (N_tokens_c + len(vocab)))\n",
    "    \n",
    "    return log_prior, log_likelihood, vocab"
   ]
  },
  {
   "cell_type": "markdown",
   "metadata": {},
   "source": [
    "### Testing Function"
   ]
  },
  {
   "cell_type": "code",
   "execution_count": 13,
   "metadata": {},
   "outputs": [],
   "source": [
    "def test_doc(doc, log_prior, log_likelihood, classes, vocab, stop_words):\n",
    "    '''\n",
    "        Predicts class for given doc \n",
    "        \n",
    "        Arguments\n",
    "        ---------\n",
    "        doc : str\n",
    "            Given text\n",
    "            \n",
    "        log_prior: dict\n",
    "            Dictionary of shape (x, ), where x is the number of classes\n",
    "            \n",
    "        log_likelihood: dict\n",
    "            Dictionary of shape (x, y), where x is the number of classes, y is the number of words in vocabulary\n",
    "            \n",
    "        classes : list\n",
    "            Array of shape (n, ), where n is the number of classes\n",
    "            \n",
    "        vocab: list\n",
    "            Array of shape (x, ), where x is the number of words in vocabulary\n",
    "            \n",
    "        stopwords: list\n",
    "            Array of shape (x, ), where x is the number of stopwords\n",
    "        \n",
    "        Returns\n",
    "        --------            \n",
    "        pred_c: int\n",
    "            Encoded label of predicted class\n",
    "    '''\n",
    "    pred_c = None\n",
    "    cleaned_doc = clean_text(doc, stop_words)\n",
    "    Sum = np.zeros(len(classes))\n",
    "    for c in classes:\n",
    "        Sum[c] = log_prior[c]\n",
    "        for word in cleaned_doc:\n",
    "            if word in vocab:\n",
    "                Sum[c] += log_likelihood[c][word]\n",
    "    pred_c = np.argmax(Sum)\n",
    "    return pred_c\n",
    "\n",
    "def testNB(docs, log_prior, log_likelihood, classes, vocab, stop_words=None):\n",
    "    '''\n",
    "        Predicts class for given doc \n",
    "        \n",
    "        Arguments\n",
    "        ---------\n",
    "        docs : Dataframe\n",
    "            Dataframe of shape (m, 2), where m is number examples, each with 'text' and 'label'\n",
    "            \n",
    "        log_prior: dict\n",
    "            Dictionary of shape (x, ), where x is the number of classes\n",
    "            \n",
    "        log_likelihood: dict\n",
    "            Dictionary of shape (x, y), where x is the number of classes, y is the number of words in vocabulary\n",
    "            \n",
    "        classes : list\n",
    "            Array of shape (n, ), where n is the number of classes\n",
    "            \n",
    "        vocab: list\n",
    "            Array of shape (x, ), where x is the number of words in vocabulary\n",
    "            \n",
    "        stopwords: list\n",
    "            Array of shape (x, ), where x is the number of stopwords\n",
    "        \n",
    "        Returns\n",
    "        --------            \n",
    "        cm: Numpy Array\n",
    "            Numpy Array of shape (c, c), where c is the number of classes            \n",
    "    '''\n",
    "    cm = np.zeros((len(classes), len(classes)))\n",
    "    \n",
    "    for _, data in docs.iterrows():\n",
    "        pred_c = test_doc(data['text'], log_prior, log_likelihood, classes, vocab, stop_words)\n",
    "        cm[pred_c][data['label']] += 1\n",
    "    \n",
    "    return cm"
   ]
  },
  {
   "cell_type": "markdown",
   "metadata": {},
   "source": [
    "### Evaluation Fuctions"
   ]
  },
  {
   "cell_type": "code",
   "execution_count": 14,
   "metadata": {},
   "outputs": [],
   "source": [
    "def get_tp(cm, y):\n",
    "    '''\n",
    "    Calculates True Positives of given class w.r.t. other classes\n",
    "\n",
    "    Arguments\n",
    "    ---------\n",
    "    cm: numpy array\n",
    "        Array of shape (k, k), where k is the number of classes\n",
    "\n",
    "    y: int\n",
    "        Label of given classe\n",
    "\n",
    "    Returns\n",
    "    --------\n",
    "    tp: int\n",
    "        True Positives\n",
    "    '''\n",
    "    tp = 0\n",
    "    tp = cm[y][y]\n",
    "    return tp\n",
    "\n",
    "def get_tn(cm, y):\n",
    "    '''\n",
    "    Calculates True Negatives of given class w.r.t. other classes\n",
    "\n",
    "    Arguments\n",
    "    ---------\n",
    "    cm: numpy array\n",
    "        Array of shape (k, k), where k is the number of classes\n",
    "\n",
    "    y: int\n",
    "        Label of given classe\n",
    "\n",
    "    Returns\n",
    "    --------\n",
    "    tn: int\n",
    "        True Negatives\n",
    "    '''\n",
    "    tn = 0\n",
    "    for i in range(len(cm)):\n",
    "        if i != y:\n",
    "            for j in range(len(cm)):\n",
    "                if j != y:\n",
    "                    fp += cm[i][j]\n",
    "    return tn                \n",
    "\n",
    "def get_fp(cm, y):\n",
    "    '''\n",
    "    Calculates False Positives of given class w.r.t. other classes\n",
    "\n",
    "    Arguments\n",
    "    ---------\n",
    "    cm: numpy array\n",
    "        Array of shape (k, k), where k is the number of classes\n",
    "\n",
    "    y: int\n",
    "        Label of given classe\n",
    "\n",
    "    Returns\n",
    "    --------\n",
    "    fp: int\n",
    "        False Positives\n",
    "    '''\n",
    "    fp = 0\n",
    "    for j in range(len(cm)):\n",
    "        if j != y:\n",
    "            fp += cm[y][j]\n",
    "    return fp\n",
    "\n",
    "def get_fn(cm, y):\n",
    "    '''\n",
    "    Calculates False Negatives of given class w.r.t. other classes\n",
    "\n",
    "    Arguments\n",
    "    ---------\n",
    "    cm: numpy array\n",
    "        Array of shape (k, k), where k is the number of classes\n",
    "\n",
    "    y: int\n",
    "        Label of given classe\n",
    "\n",
    "    Returns\n",
    "    --------\n",
    "    fn: int\n",
    "        False Negatives\n",
    "    '''\n",
    "    fn = 0\n",
    "    for i in range(len(cm)):\n",
    "        if i != y:\n",
    "            fn += cm[i][y]\n",
    "    return fn\n",
    "\n",
    "def get_precision(cm):\n",
    "    '''\n",
    "    Calculates Macro Precision\n",
    "\n",
    "    Arguments\n",
    "    ---------\n",
    "    cm: numpy array\n",
    "        Array of shape (k, k), where k is the number of classes\n",
    "\n",
    "    Returns\n",
    "    --------\n",
    "    precision: float\n",
    "        Macro Precision\n",
    "    '''\n",
    "    precision = 0\n",
    "    for i in range(len(cm)):\n",
    "        temp = (get_tp(cm, i) + get_fp(cm, i))\n",
    "        if temp:\n",
    "            precision += (get_tp(cm, i) / temp)\n",
    "    precision /= len(cm)\n",
    "    return precision\n",
    "\n",
    "def get_recall(cm):\n",
    "    '''\n",
    "    Calculates Macro Recall\n",
    "\n",
    "    Arguments\n",
    "    ---------\n",
    "    cm: numpy array\n",
    "        Array of shape (k, k), where k is the number of classes\n",
    "\n",
    "    Returns\n",
    "    --------\n",
    "    recall: float\n",
    "        Macro Recall\n",
    "    '''\n",
    "    recall = 0\n",
    "    for i in range(len(cm)):\n",
    "        temp = (get_tp(cm, i) + get_fn(cm, i))\n",
    "        if temp:\n",
    "            recall += (get_tp(cm, i) / temp)\n",
    "    recall /= len(cm)\n",
    "    return recall\n",
    "\n",
    "def evaluation_matrix(cm, classes):\n",
    "    '''\n",
    "        Plots confusion matrix and calculates Macro accuracy, precision, recall, f1 score\n",
    "\n",
    "        Arguments\n",
    "        ---------\n",
    "        cm: numpy array\n",
    "            Array of shape (k, k), where k is the number of classes\n",
    "            \n",
    "        classes: list\n",
    "            Array of encoded labels of shape (c, ), where c is the number of classes\n",
    "    '''\n",
    "    df_cm = pd.DataFrame(cm, index = [i for i in classes],\n",
    "              columns = [i for i in classes])\n",
    "    sn.set(font_scale=1.4)\n",
    "    sn.heatmap(df_cm, annot=True, annot_kws={\"size\": 16}, fmt='g', cmap=\"BuPu\")\n",
    "    plt.show()\n",
    "    # Calculating Accuracy, Precision, Recall and F1 Score\n",
    "    accuracy = np.sum(np.array([get_tp(cm, i) for i in range(len(cm))])) / np.sum(cm)\n",
    "    precision = get_precision(cm)\n",
    "    recall = get_recall(cm)\n",
    "    f1_score = ((2*recall*precision) / (recall + precision))\n",
    "    print(\"\\n\\nAccuracy = %.3f\" % (accuracy))\n",
    "    print(\"Precision = %.3f\" % (precision))\n",
    "    print(\"Recall = %.3f\" % (recall))\n",
    "    print(\"F1 Score = %.3f\" % (f1_score)) "
   ]
  },
  {
   "cell_type": "markdown",
   "metadata": {},
   "source": [
    "### Main Processing"
   ]
  },
  {
   "cell_type": "code",
   "execution_count": 15,
   "metadata": {},
   "outputs": [],
   "source": [
    "# We are not removing any stopwords from the Documents\n",
    "stop_words = None"
   ]
  },
  {
   "cell_type": "markdown",
   "metadata": {},
   "source": [
    "**Splitting**"
   ]
  },
  {
   "cell_type": "code",
   "execution_count": 16,
   "metadata": {},
   "outputs": [],
   "source": [
    "# Train-Test Split\n",
    "full_train_df, test_df = split_dataset(tweets_df, classes, rand_factor=2)"
   ]
  },
  {
   "cell_type": "markdown",
   "metadata": {},
   "source": [
    "**Training**"
   ]
  },
  {
   "cell_type": "code",
   "execution_count": 17,
   "metadata": {},
   "outputs": [],
   "source": [
    "# Training\n",
    "log_prior, log_likelihood, V = trainNB(full_train_df, encoded_classes, stop_words=stop_words)"
   ]
  },
  {
   "cell_type": "markdown",
   "metadata": {},
   "source": [
    "**Testing**"
   ]
  },
  {
   "cell_type": "code",
   "execution_count": 18,
   "metadata": {},
   "outputs": [],
   "source": [
    "# Testing\n",
    "cm = testNB(test_df, log_prior, log_likelihood, encoded_classes, V, stop_words=stop_words)"
   ]
  },
  {
   "cell_type": "markdown",
   "metadata": {},
   "source": [
    "### Evaluation Report"
   ]
  },
  {
   "cell_type": "code",
   "execution_count": 19,
   "metadata": {},
   "outputs": [
    {
     "data": {
      "image/png": "[encoded data removed]",
      "text/plain": [
       "<Figure size 432x288 with 2 Axes>"
      ]
     },
     "metadata": {},
     "output_type": "display_data"
    },
    {
     "name": "stdout",
     "output_type": "stream",
     "text": [
      "\n",
      "\n",
      "Accuracy = 0.767\n",
      "Precision = 0.780\n",
      "Recall = 0.615\n",
      "F1 Score = 0.688\n"
     ]
    }
   ],
   "source": [
    "evaluation_matrix(cm, classes)"
   ]
  },
  {
   "cell_type": "markdown",
   "metadata": {},
   "source": [
    "We have used **Macro Scores** to evaluate our skewed dataset"
   ]
  }
 ],
 "metadata": {
  "kernelspec": {
   "display_name": "Python 3",
   "language": "python",
   "name": "python3"
  },
  "language_info": {
   "codemirror_mode": {
    "name": "ipython",
    "version": 3
   },
   "file_extension": ".py",
   "mimetype": "text/x-python",
   "name": "python",
   "nbconvert_exporter": "python",
   "pygments_lexer": "ipython3",
   "version": "3.7.3"
  }
 },
 "nbformat": 4,
 "nbformat_minor": 2
}
